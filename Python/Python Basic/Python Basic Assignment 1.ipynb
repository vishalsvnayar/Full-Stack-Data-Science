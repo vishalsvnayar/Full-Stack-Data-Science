{
 "cells": [
  {
   "cell_type": "markdown",
   "id": "2acc6cfc",
   "metadata": {},
   "source": [
    "##  Assignment No 1 -Solutions"
   ]
  },
  {
   "cell_type": "markdown",
   "id": "ffcd5193",
   "metadata": {},
   "source": [
    "### 1. In the below elements which of them are values or an expression? eg:- values can be integer or string and expressions will be mathematical operators.\n",
    "`*`,`hello`,`-87.8`,`-`,`/`,`+`,`6` \n",
    "\n",
    "\n",
    "**Ans:** There are a total of 4 Operators and 3 Expressions, They are:  \n",
    "**Operators:** `*`,`-`,`/`,`+`  \n",
    "**Expressions:** `'hello'`, `87.8`, `6`,`7`\n"
   ]
  },
  {
   "cell_type": "markdown",
   "id": "7101eb03",
   "metadata": {},
   "source": [
    "### 2. What is the difference between string and variable?\n",
    "\n",
    "**Ans:** A Variable is used to store of information, and a String is a type of information you would store in a Variable. A String is a group of characters or a single character usually enclosed in Double quotes `\" \"` or single quotes `' '`"
   ]
  },
  {
   "cell_type": "markdown",
   "id": "369d879d",
   "metadata": {},
   "source": [
    "### 3. Describe three different data types.\n",
    "**Ans:** Three fundamental Data types in python are `int`, `float`, `complex`.\n",
    "1. **int data type**: We can use int data type to represent whole numbers (integral values)\n",
    "2. **float data type**: We can use float data type to represent floating point values (decimal values)\n",
    "3. **complex data type**: Complex number is represented by complex class. It is specified as (real part) + (imaginary part)j. \n",
    "\n",
    "\n",
    "\n"
   ]
  },
  {
   "cell_type": "code",
   "execution_count": 1,
   "id": "cf34fd66",
   "metadata": {},
   "outputs": [
    {
     "name": "stdout",
     "output_type": "stream",
     "text": [
      "<class 'int'>\n",
      "<class 'float'>\n",
      "<class 'complex'>\n"
     ]
    }
   ],
   "source": [
    "# Examples of Data types\n",
    "a=10          #Integer Data Type\n",
    "b=20.5        #Float Data Type\n",
    "c= 20+2j      #Complex Data Type\n",
    "\n",
    "print(type(a))\n",
    "print(type(b))\n",
    "print(type(c))"
   ]
  },
  {
   "cell_type": "markdown",
   "id": "a1e37b4a",
   "metadata": {},
   "source": [
    "### 4. What is an expression made up of? What do all expressions do?"
   ]
  },
  {
   "cell_type": "markdown",
   "id": "c39673e5",
   "metadata": {},
   "source": [
    "**Ans**: An expression is a combination of operators and operands that is interpreted to produce some other value. In any programming language, an expression is evaluated as per the precedence of its operators. So that if there is more than one operator in an expression, their precedence decides which operation will be performed first."
   ]
  },
  {
   "cell_type": "code",
   "execution_count": 2,
   "id": "633c29f7",
   "metadata": {},
   "outputs": [
    {
     "name": "stdout",
     "output_type": "stream",
     "text": [
      "25\n"
     ]
    }
   ],
   "source": [
    "# for example\n",
    "# Integral Expressions\n",
    "a = 13\n",
    "b = 12\n",
    "  \n",
    "c = a+ b\n",
    "print(c)      #The Python Interpreter Evaluates it to 25"
   ]
  },
  {
   "cell_type": "markdown",
   "id": "f1c65d34",
   "metadata": {},
   "source": [
    "### 5. This assignment statements, like spam = 10. What is the difference between an expression and a statement?\n",
    "\n",
    "**Ans**:\n",
    "A **statement** is an instruction that the Python interpreter can execute.\n",
    "\n",
    "\n",
    "An **expression** is any sequence of literals (strings, numbers, lists, sets, tuples), objects, function calls, identifiers combined with a variety of operators which results in a value - regardless of whether of the resulting value is an object, or a number, or even a None. \n",
    "\n",
    " "
   ]
  },
  {
   "cell_type": "code",
   "execution_count": null,
   "id": "b99cafc8",
   "metadata": {},
   "outputs": [],
   "source": [
    "10+20-30+55 # Is a Expression\n",
    "Name = 'My Name is Vishal Nayar' # Is a Statement"
   ]
  },
  {
   "cell_type": "markdown",
   "id": "cdc7d8a8",
   "metadata": {},
   "source": [
    "### 6. After running the following code, what does the variable bacon contain?\n",
    "bacon = 22\n",
    "\n",
    "bacon + 1\n",
    "\n",
    "**Ans**:The bacon variable is set to 22\n",
    ". The bacon + 1 expression does not reassign the value in bacon (that would need an assignment statement: bacon = bacon + 1\n"
   ]
  },
  {
   "cell_type": "code",
   "execution_count": 3,
   "id": "ea55f5ab",
   "metadata": {},
   "outputs": [
    {
     "name": "stdout",
     "output_type": "stream",
     "text": [
      "22\n"
     ]
    }
   ],
   "source": [
    "bacon=22\n",
    "bacon+1\n",
    "print(bacon)"
   ]
  },
  {
   "cell_type": "markdown",
   "id": "ef785895",
   "metadata": {},
   "source": [
    "### 7. What should the values of the following two terms be?\n",
    "'spam' + 'spamspam'\n",
    "\n",
    "'spam' * 3\n",
    "\n",
    "\n",
    "**Ans:** Both expressions evaluate to the string **`'spamspamspam'`**\n",
    "Where as the first expression follows `String Concatentation` and the second expression follows `String Multiplication`\n"
   ]
  },
  {
   "cell_type": "code",
   "execution_count": 4,
   "id": "8d8076fd",
   "metadata": {},
   "outputs": [
    {
     "name": "stdout",
     "output_type": "stream",
     "text": [
      "spamspamspam\n"
     ]
    }
   ],
   "source": [
    "a='spam' + 'spamspam'\n",
    "print(a)"
   ]
  },
  {
   "cell_type": "code",
   "execution_count": 5,
   "id": "f6156b2a",
   "metadata": {},
   "outputs": [
    {
     "name": "stdout",
     "output_type": "stream",
     "text": [
      "spamspamspam\n"
     ]
    }
   ],
   "source": [
    "b='spam' * 3\n",
    "print(b)"
   ]
  },
  {
   "cell_type": "markdown",
   "id": "f539cbdd",
   "metadata": {},
   "source": [
    "### 8. Why is eggs a valid variable name while 100 is invalid?\n",
    "**Ans**:\n",
    "**Rules for creating variables in Python**\n",
    "\n",
    "+ A variable name must start with a letter or the underscore character.\n",
    "+ A variable name cannot start with a number.\n",
    "+ A variable name can only contain alpha-numeric characters and underscores (A-z, 0-9, and _).\n",
    "+ Variable names are case-sensitive (name, Name and NAME are three different variables).\n",
    "+ The reserved words(keywords) cannot be used naming the variable."
   ]
  },
  {
   "cell_type": "markdown",
   "id": "f98262c6",
   "metadata": {},
   "source": [
    "### 9. What three functions can be used to get the integer, floating-point number, or string version of a value?\n",
    "\n",
    "**Ans** :\n",
    "\n",
    "The int(), float(), and str() functions will evaluate to the integer, floating-point number, and string versions of the value passed to them."
   ]
  },
  {
   "cell_type": "code",
   "execution_count": 6,
   "id": "46ff9575",
   "metadata": {},
   "outputs": [
    {
     "name": "stdout",
     "output_type": "stream",
     "text": [
      "int(255.0) ->  255\n",
      "float(100) ->  100.0\n",
      "str(112) ->  112\n"
     ]
    }
   ],
   "source": [
    "# Examples:\n",
    "print('int(255.0) -> ',int(255.0)) # int() function converts given input to int\n",
    "print('float(100) -> ',float(100)) # float() function converts given input to float\n",
    "print('str(112) -> ',str(112)) # str() function converts given input to string"
   ]
  },
  {
   "cell_type": "markdown",
   "id": "b24b3a90",
   "metadata": {},
   "source": [
    "### 10. Why does this expression cause an error? How can you fix it?\n",
    "'I have eaten ' + 99 + ' burritos.'\n",
    "\n",
    "**Ans**:\n",
    "The expression causes an error because 99 is an integer, and only strings can be concatenated to other strings with the + operator. The correct way is I have eaten ' + str(99) + ' burritos.'.\n",
    "\n"
   ]
  },
  {
   "cell_type": "code",
   "execution_count": 7,
   "id": "00238a8d",
   "metadata": {},
   "outputs": [
    {
     "name": "stdout",
     "output_type": "stream",
     "text": [
      "I have eaten 99 burritos.\n"
     ]
    }
   ],
   "source": [
    "print('I have eaten ' +'99' + ' burritos.')"
   ]
  }
 ],
 "metadata": {
  "kernelspec": {
   "display_name": "Python 3 (ipykernel)",
   "language": "python",
   "name": "python3"
  },
  "language_info": {
   "codemirror_mode": {
    "name": "ipython",
    "version": 3
   },
   "file_extension": ".py",
   "mimetype": "text/x-python",
   "name": "python",
   "nbconvert_exporter": "python",
   "pygments_lexer": "ipython3",
   "version": "3.9.7"
  }
 },
 "nbformat": 4,
 "nbformat_minor": 5
}
