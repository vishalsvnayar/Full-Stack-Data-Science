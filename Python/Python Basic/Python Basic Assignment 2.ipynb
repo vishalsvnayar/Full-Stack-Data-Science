{
 "cells": [
  {
   "cell_type": "markdown",
   "id": "be4f7209",
   "metadata": {},
   "source": [
    "### Assignment 2- Solutions"
   ]
  },
  {
   "cell_type": "markdown",
   "id": "b627a893",
   "metadata": {},
   "source": [
    "### 1.What are the two values of the Boolean data type? How do you write them?\n",
    "**Ans**:\n",
    "A variable of the primitive data type boolean can have two values: true and false (Boolean literals). or off. Boolean expressions use relational and logical operators. The result of a Boolean expression is either true or false."
   ]
  },
  {
   "cell_type": "code",
   "execution_count": 31,
   "id": "d09391ca",
   "metadata": {},
   "outputs": [
    {
     "name": "stdout",
     "output_type": "stream",
     "text": [
      "True <class 'bool'>\n",
      "False <class 'bool'>\n"
     ]
    }
   ],
   "source": [
    "a=True\n",
    "b=False\n",
    "print(a,type(a))\n",
    "print(b,type(b))"
   ]
  },
  {
   "cell_type": "markdown",
   "id": "dc5df51b",
   "metadata": {},
   "source": [
    "### 2. What are the three different types of Boolean operators?\n",
    "**Ans** :\n",
    "\n",
    "The three differnt types of Boolean operators in python are:  `AND`, `OR`, and `NOT`."
   ]
  },
  {
   "cell_type": "code",
   "execution_count": 32,
   "id": "8d82d365",
   "metadata": {},
   "outputs": [
    {
     "name": "stdout",
     "output_type": "stream",
     "text": [
      "True\n",
      "True\n",
      "False\n"
     ]
    }
   ],
   "source": [
    "a=100\n",
    "b=200\n",
    "print(a>50 and b>100) # Example of boolean AND\n",
    "print(a>200 or b>100) # Example of boolean OR\n",
    "print(not(a>10)) # Example of boolean NOT"
   ]
  },
  {
   "cell_type": "markdown",
   "id": "36579a63",
   "metadata": {},
   "source": [
    "### 3. Make a list of each Boolean operator's truth tables (i.e. every possible combination of Boolean values for the operator and what it evaluate ).\n",
    "**Ans**:\n",
    "\n",
    "\n",
    "+  **Truth Table for `AND` operaotor**  \n",
    "\n",
    " + True and True is True.\n",
    "\n",
    " + True and False is False.\n",
    "\n",
    " + False and True is False.\n",
    "\n",
    " + False and False is False.\n",
    "\n",
    "\n",
    "* **Truth Table for `OR` operaotor** \n",
    " + True or True is True.\n",
    "\n",
    " + True or False is True.\n",
    "\n",
    " + False or True is True.\n",
    "\n",
    " + False or False is False.\n",
    " \n",
    " * **Truth Table for `NOT` operaotor** \n",
    " + not True is False.\n",
    "\n",
    " + not False is True."
   ]
  },
  {
   "cell_type": "markdown",
   "id": "4577bab1",
   "metadata": {},
   "source": [
    "### 4. What are the values of the following expressions?\n",
    "+ (5 > 4) and (3 == 5)\n",
    "\n",
    "+ not (5 > 4)\n",
    "\n",
    "+ (5 > 4) or (3 == 5)\n",
    "\n",
    "+ not ((5 > 4) or (3 == 5))\n",
    "\n",
    "+ (True and True) and (True == False)\n",
    "\n",
    "+ (not False) or (not True)\n"
   ]
  },
  {
   "cell_type": "code",
   "execution_count": 34,
   "id": "93fce9b0",
   "metadata": {},
   "outputs": [
    {
     "name": "stdout",
     "output_type": "stream",
     "text": [
      "False\n",
      "False\n",
      "True\n",
      "False\n",
      "False\n",
      "True\n"
     ]
    }
   ],
   "source": [
    "print((5 > 4) and (3 == 5))\n",
    "print(not (5 > 4))\n",
    "print((5 > 4) or (3 == 5))\n",
    "print(not ((5 > 4) or (3 == 5)))\n",
    "print((True and True) and (True == False))\n",
    "print((not False) or (not True))"
   ]
  },
  {
   "cell_type": "markdown",
   "id": "d62d3fee",
   "metadata": {},
   "source": [
    "### 5. What are the six comparison operators?\n",
    "**Ans:**  The Six comparision operators available in python are:  \n",
    "`==` , `!=` , `<` , `>` , `<=` , `=>`"
   ]
  },
  {
   "cell_type": "markdown",
   "id": "5061b218",
   "metadata": {},
   "source": [
    "### 6. How do you tell the difference between the equal to and assignment operators?Describe a condition and when you would use one.\n",
    "**Ans**:\n",
    "both are not same, = is an Assignment Operator it is used to assign the value of variable or expression, while == is an Equal to Operator and it is a relation operator used for comparison (to compare value of both left and right side operands)."
   ]
  },
  {
   "cell_type": "markdown",
   "id": "218912ad",
   "metadata": {},
   "source": [
    "### 7. Identify the three blocks in this code:\n",
    "spam = 0  \n",
    "if spam == 10:  \n",
    "print('eggs')  \n",
    "if spam > 5:  \n",
    "print('bacon')  \n",
    "else:  \n",
    "print('ham')  \n",
    "print('spam')  \n",
    "print('spam')\n"
   ]
  },
  {
   "cell_type": "code",
   "execution_count": 35,
   "id": "1562bd2f",
   "metadata": {},
   "outputs": [
    {
     "name": "stdout",
     "output_type": "stream",
     "text": [
      "ham\n",
      "spam\n",
      "spam\n"
     ]
    }
   ],
   "source": [
    "spam = 0\n",
    "if spam == 10:  \n",
    "    print('eggs')  # block #1\n",
    "if spam > 5:  \n",
    "    print('bacon')  # block #2\n",
    "else:  \n",
    "    print('ham')  # block #3\n",
    "print('spam')  \n",
    "print('spam')"
   ]
  },
  {
   "cell_type": "markdown",
   "id": "833aac10",
   "metadata": {},
   "source": [
    "### 8. Write code that prints Hello if 1 is stored in spam, prints Howdy if 2 is stored in spam, and prints Greetings! if anything else is stored in spam.\n"
   ]
  },
  {
   "cell_type": "code",
   "execution_count": 36,
   "id": "0b36d12f",
   "metadata": {},
   "outputs": [
    {
     "name": "stdout",
     "output_type": "stream",
     "text": [
      "3\n",
      "Greetings!\n"
     ]
    }
   ],
   "source": [
    "spam = int(input())\n",
    "\n",
    "if spam == 1:\n",
    "    print('Hello')\n",
    "elif spam == 2:\n",
    "    print('Howdy')\n",
    "else:\n",
    "    print('Greetings!')\n",
    "    "
   ]
  },
  {
   "cell_type": "markdown",
   "id": "06af3627",
   "metadata": {},
   "source": [
    "###  9.If your programme is stuck in an endless loop, what keys you’ll press?\n",
    "**Ans**:\n",
    "Press Ctrl-c to stop a program stuck in an infinite loop"
   ]
  },
  {
   "cell_type": "markdown",
   "id": "15b15fb4",
   "metadata": {},
   "source": [
    "###    10. How can you tell the difference between break and continue?\n",
    "**Ans**:The break statement will move the execution outside and just after a loop. The continue statement will move the execution to the start of the loop.\n",
    "\n",
    "\n"
   ]
  },
  {
   "cell_type": "markdown",
   "id": "053765b7",
   "metadata": {},
   "source": [
    "### 11. In a for loop, what is the difference between range(10), range(0, 10), and range(0, 10, 1)?\n",
    "**Ans**:\n",
    "They all do the same thing. The range(10) call ranges from 0 up to (but not including) 10, range(0, 10) explicitly tells the loop to start at 0, and range(0, 10, 1) explicitly tells the loop to increase the variable by 1 on each iteration.\n",
    "\n"
   ]
  },
  {
   "cell_type": "markdown",
   "id": "58964235",
   "metadata": {},
   "source": [
    "### 12. Write a short program that prints the numbers 1 to 10 using a for loop. Then write an equivalent program that prints the numbers 1 to 10 using a while loop.\n",
    "\n"
   ]
  },
  {
   "cell_type": "code",
   "execution_count": 39,
   "id": "2bf54a2d",
   "metadata": {},
   "outputs": [
    {
     "name": "stdout",
     "output_type": "stream",
     "text": [
      "Using For Loop\n",
      "1 2 3 4 5 6 7 8 9 10 \n",
      "\n",
      "Using While Loop\n",
      "1 2 3 4 5 6 7 8 9 10 "
     ]
    }
   ],
   "source": [
    "print('Using For Loop')\n",
    "for i in range(1,11):\n",
    "    print(i, end=\" \")\n",
    "print('\\n')\n",
    "print('Using While Loop') \n",
    "i=1\n",
    "while i<=10:\n",
    "    print(i, end=\" \")\n",
    "    i+=1"
   ]
  },
  {
   "cell_type": "markdown",
   "id": "248ebf26",
   "metadata": {},
   "source": [
    "### 13. If you had a function named bacon() inside a module named spam, how would you call it after importing spam?\n",
    "**Ans:** This function can be called with `spam.bacon()`"
   ]
  }
 ],
 "metadata": {
  "kernelspec": {
   "display_name": "Python 3 (ipykernel)",
   "language": "python",
   "name": "python3"
  },
  "language_info": {
   "codemirror_mode": {
    "name": "ipython",
    "version": 3
   },
   "file_extension": ".py",
   "mimetype": "text/x-python",
   "name": "python",
   "nbconvert_exporter": "python",
   "pygments_lexer": "ipython3",
   "version": "3.9.7"
  }
 },
 "nbformat": 4,
 "nbformat_minor": 5
}
