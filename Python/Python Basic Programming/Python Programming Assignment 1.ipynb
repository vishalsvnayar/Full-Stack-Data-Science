{
 "cells": [
  {
   "cell_type": "markdown",
   "id": "e0b5b8f5",
   "metadata": {},
   "source": [
    "###  1.\tWrite a Python program to print \"Hello Python\"?"
   ]
  },
  {
   "cell_type": "code",
   "execution_count": 1,
   "id": "c2e02d32",
   "metadata": {},
   "outputs": [
    {
     "name": "stdout",
     "output_type": "stream",
     "text": [
      "Hello Python\n"
     ]
    }
   ],
   "source": [
    "print(\"Hello Python\")"
   ]
  },
  {
   "cell_type": "markdown",
   "id": "92664a50",
   "metadata": {},
   "source": [
    "### 2.Write a Python program to do arithmetical operations addition and division.?"
   ]
  },
  {
   "cell_type": "code",
   "execution_count": 2,
   "id": "128dff5c",
   "metadata": {},
   "outputs": [
    {
     "name": "stdout",
     "output_type": "stream",
     "text": [
      "The sum of 50 and 60 is 110\n"
     ]
    }
   ],
   "source": [
    "#Addition\n",
    "num1=50\n",
    "num2=60\n",
    "#add two number \n",
    "sum =num1+num2\n",
    "#Display The Sum\n",
    "print(\"The sum of {0} and {1} is {2}\".format(num1,num2,sum))\n"
   ]
  },
  {
   "cell_type": "code",
   "execution_count": 3,
   "id": "8c8291ff",
   "metadata": {},
   "outputs": [
    {
     "name": "stdout",
     "output_type": "stream",
     "text": [
      "The Divison of 100 and 50 is 2.0\n"
     ]
    }
   ],
   "source": [
    "#Division\n",
    "num1=100\n",
    "num2=50\n",
    "#Divide two number\n",
    "divide=num1/num2\n",
    "#Display the division\n",
    "print(\"The Divison of {0} and {1} is {2}\".format(num1,num2,divide))"
   ]
  },
  {
   "cell_type": "markdown",
   "id": "773f9275",
   "metadata": {},
   "source": [
    "### 3.Write a Python program to find the area of a triangle?"
   ]
  },
  {
   "cell_type": "code",
   "execution_count": 4,
   "id": "fa00a7e2",
   "metadata": {},
   "outputs": [
    {
     "name": "stdout",
     "output_type": "stream",
     "text": [
      "enter the height  of triangle: 400\n",
      "enter the base of triangle: 20\n",
      "area of triangle 4000.0\n"
     ]
    }
   ],
   "source": [
    "height=int(input(\"enter the height  of triangle: \"))\n",
    "base=int(input(\"enter the base of triangle: \"))\n",
    "area=(height*base)/2\n",
    "print(\"area of triangle\",area)"
   ]
  },
  {
   "cell_type": "markdown",
   "id": "e137edf6",
   "metadata": {},
   "source": [
    "### 4.Write a Python program to swap two variables?"
   ]
  },
  {
   "cell_type": "code",
   "execution_count": 5,
   "id": "b2b14d5c",
   "metadata": {},
   "outputs": [
    {
     "name": "stdout",
     "output_type": "stream",
     "text": [
      "20\n",
      "10\n"
     ]
    }
   ],
   "source": [
    "a=10\n",
    "b=20\n",
    "temp=a\n",
    "a=b\n",
    "b=temp\n",
    "print(a)\n",
    "print(b)"
   ]
  },
  {
   "cell_type": "code",
   "execution_count": 6,
   "id": "a65db332",
   "metadata": {},
   "outputs": [
    {
     "name": "stdout",
     "output_type": "stream",
     "text": [
      "20\n",
      "10\n"
     ]
    }
   ],
   "source": [
    "a=10\n",
    "b=20\n",
    "a=a+b    #30\n",
    "b=a-b    #10\n",
    "a=a-b    #20\n",
    "print(a)\n",
    "print(b)"
   ]
  },
  {
   "cell_type": "markdown",
   "id": "7db84ea4",
   "metadata": {},
   "source": [
    "### 5.Write a Python program to generate a random number?"
   ]
  },
  {
   "cell_type": "code",
   "execution_count": 7,
   "id": "be518673",
   "metadata": {},
   "outputs": [
    {
     "name": "stdout",
     "output_type": "stream",
     "text": [
      "0.8636263372462791\n"
     ]
    }
   ],
   "source": [
    "import random         #It wwill generate float value\n",
    "num=random.random()\n",
    "print(num)"
   ]
  },
  {
   "cell_type": "code",
   "execution_count": 8,
   "id": "57edff91",
   "metadata": {},
   "outputs": [
    {
     "name": "stdout",
     "output_type": "stream",
     "text": [
      "14\n"
     ]
    }
   ],
   "source": [
    "num=random.randint(10,20)  #It will generate int value\n",
    "print(num)"
   ]
  }
 ],
 "metadata": {
  "kernelspec": {
   "display_name": "Python 3 (ipykernel)",
   "language": "python",
   "name": "python3"
  },
  "language_info": {
   "codemirror_mode": {
    "name": "ipython",
    "version": 3
   },
   "file_extension": ".py",
   "mimetype": "text/x-python",
   "name": "python",
   "nbconvert_exporter": "python",
   "pygments_lexer": "ipython3",
   "version": "3.9.7"
  }
 },
 "nbformat": 4,
 "nbformat_minor": 5
}
