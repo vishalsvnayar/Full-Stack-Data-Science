{
 "cells": [
  {
   "cell_type": "markdown",
   "id": "59fe8d87",
   "metadata": {},
   "source": [
    "**1.Write a Python Program to Find the Factorial of a Number?**"
   ]
  },
  {
   "cell_type": "code",
   "execution_count": 1,
   "id": "855318b3",
   "metadata": {},
   "outputs": [
    {
     "name": "stdout",
     "output_type": "stream",
     "text": [
      "Enter then number5\n",
      "Factorial=  120\n"
     ]
    }
   ],
   "source": [
    "num=int(input(\"Enter then number\"))\n",
    "factorial=1\n",
    "if num<0:\n",
    "    print(\"Must Be Positive number\")\n",
    "elif num==0:\n",
    "    print(\"Factorial=1\")\n",
    "else:\n",
    "    for i in range(1,num+1):\n",
    "        factorial=factorial*i\n",
    "\n",
    "    print(\"Factorial= \",factorial)\n",
    "    \n",
    "     "
   ]
  },
  {
   "cell_type": "markdown",
   "id": "949cbfd1",
   "metadata": {},
   "source": [
    "**2.Write a Python Program to Display the multiplication Table?**"
   ]
  },
  {
   "cell_type": "code",
   "execution_count": 2,
   "id": "6921c754",
   "metadata": {},
   "outputs": [
    {
     "name": "stdout",
     "output_type": "stream",
     "text": [
      "Enter The Number5\n",
      "5 * 1 = 5\n",
      "5 * 2 = 10\n",
      "5 * 3 = 15\n",
      "5 * 4 = 20\n",
      "5 * 5 = 25\n",
      "5 * 6 = 30\n",
      "5 * 7 = 35\n",
      "5 * 8 = 40\n",
      "5 * 9 = 45\n",
      "5 * 10 = 50\n"
     ]
    }
   ],
   "source": [
    "n=int(input(\"Enter The Number\"))\n",
    "for i in range(1,11):\n",
    "    print(n,\"*\",i,\"=\",n*i)"
   ]
  },
  {
   "cell_type": "markdown",
   "id": "9a526f35",
   "metadata": {},
   "source": [
    "**3.Write a Python Program to Print the Fibonacci sequence?**"
   ]
  },
  {
   "cell_type": "code",
   "execution_count": 3,
   "id": "35a778b5",
   "metadata": {},
   "outputs": [
    {
     "name": "stdout",
     "output_type": "stream",
     "text": [
      "Enter the number obtain fibonacci sequence: 15\n",
      "0\n",
      "1\n",
      "1\n",
      "2\n",
      "3\n",
      "5\n",
      "8\n",
      "13\n",
      "21\n",
      "34\n",
      "55\n",
      "89\n",
      "144\n",
      "233\n",
      "377\n"
     ]
    }
   ],
   "source": [
    "a=0\n",
    "b=1\n",
    "num=int(input(\"Enter the number obtain fibonacci sequence: \"))\n",
    "if num==1:\n",
    "    print(a)\n",
    "else:\n",
    "    print(a)\n",
    "    print(b)\n",
    "    for i in range(2,num):\n",
    "        c=a+b\n",
    "        a=b\n",
    "        b=c\n",
    "        print(c)    "
   ]
  },
  {
   "cell_type": "markdown",
   "id": "8e728e56",
   "metadata": {},
   "source": [
    "**4.Write a Python Program to Check Armstrong Number?**"
   ]
  },
  {
   "cell_type": "code",
   "execution_count": 4,
   "id": "146ea3a8",
   "metadata": {},
   "outputs": [
    {
     "name": "stdout",
     "output_type": "stream",
     "text": [
      "Enter the number155\n",
      "155 is not an Armstrong number\n"
     ]
    }
   ],
   "source": [
    "n = int(input(\"Enter the number\"))\n",
    "temp = n\n",
    "sum = 0\n",
    "\n",
    "# Count number of digits\n",
    "length = len(str(n))\n",
    "\n",
    "while temp > 0:\n",
    "    digit = temp % 10\n",
    "    sum += digit ** length\n",
    "    temp //= 10\n",
    "\n",
    "if n == sum:\n",
    "    print(n, \"is an Armstrong number\")\n",
    "else:\n",
    "    print(n, \"is not an Armstrong number\")"
   ]
  },
  {
   "cell_type": "markdown",
   "id": "877cbb41",
   "metadata": {},
   "source": [
    "**5.Write a Python Program to Find Armstrong Number in an Interval?**"
   ]
  },
  {
   "cell_type": "code",
   "execution_count": 5,
   "id": "02218d54",
   "metadata": {},
   "outputs": [
    {
     "name": "stdout",
     "output_type": "stream",
     "text": [
      "Enter The Lower Limit Here: 100\n",
      "Enter The Upper Limit Here: 1001\n",
      "153\n",
      "370\n",
      "371\n",
      "407\n"
     ]
    }
   ],
   "source": [
    "lower=int(input(\"Enter The Lower Limit Here: \"))\n",
    "upper=int(input(\"Enter The Upper Limit Here: \"))\n",
    "\n",
    "\n",
    "for num in range(lower,upper+1):\n",
    "    length = len(str(num))\n",
    "    temp = num\n",
    "    sum = 0\n",
    "    while temp > 0:\n",
    "        digit = temp % 10\n",
    "        sum += digit ** length\n",
    "        temp //= 10\n",
    "\n",
    "    if num == sum:\n",
    "        print(num)\n"
   ]
  },
  {
   "cell_type": "markdown",
   "id": "2aba6926",
   "metadata": {},
   "source": [
    "**6.Write a Python Program to Find the Sum of Natural Numbers?**"
   ]
  },
  {
   "cell_type": "code",
   "execution_count": 9,
   "id": "b388383a",
   "metadata": {},
   "outputs": [
    {
     "name": "stdout",
     "output_type": "stream",
     "text": [
      "enter the number here5\n",
      "15\n"
     ]
    }
   ],
   "source": [
    "num=int(input(\"enter the number here\"))\n",
    "\n",
    "if num<0:\n",
    "    print(\"please enter positive number\")\n",
    "else:\n",
    "    sum=0\n",
    "    while num>0:\n",
    "        sum+=num\n",
    "        num-=1\n",
    "    print(sum)    "
   ]
  }
 ],
 "metadata": {
  "kernelspec": {
   "display_name": "Python 3 (ipykernel)",
   "language": "python",
   "name": "python3"
  },
  "language_info": {
   "codemirror_mode": {
    "name": "ipython",
    "version": 3
   },
   "file_extension": ".py",
   "mimetype": "text/x-python",
   "name": "python",
   "nbconvert_exporter": "python",
   "pygments_lexer": "ipython3",
   "version": "3.9.7"
  }
 },
 "nbformat": 4,
 "nbformat_minor": 5
}
